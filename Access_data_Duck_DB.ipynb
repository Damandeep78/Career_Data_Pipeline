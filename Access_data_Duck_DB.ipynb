{
 "cells": [
  {
   "cell_type": "code",
   "execution_count": 7,
   "metadata": {},
   "outputs": [
    {
     "name": "stdout",
     "output_type": "stream",
     "text": [
      "Connecting to DuckDB at: plugins/career_data.duckdb\n",
      "\n",
      "--- First 5 rows of DimCertifications ---\n",
      "  certification_id professional_id date_earned expiration_date\n",
      "0             C001            P001  2017-05-20      2023-05-20\n",
      "1             C002            P001  2018-08-15      2024-08-15\n",
      "2             C003            P001  2016-03-10      2022-03-10\n",
      "3             C035            P001  2019-11-15      2022-11-15\n",
      "4             C004            P002  2016-10-25      2022-10-25\n",
      "\n",
      "--- First 5 rows of DimEducations ---\n",
      "  education_id professional_id graduation_date\n",
      "0         E001            P001      2011-05-15\n",
      "1         E002            P001      2015-12-20\n",
      "2         E003            P002      2015-06-10\n",
      "3         E004            P003      2008-05-30\n",
      "4         E005            P003      2012-12-15\n",
      "\n",
      "--- First 5 rows of DimProfessionals ---\n",
      "  professional_id  years_experience\n",
      "0            P001                12\n",
      "1            P002                 8\n",
      "2            P003                15\n",
      "3            P004                 6\n",
      "4            P005                10\n",
      "\n",
      "--- First 5 rows of DimSkills ---\n",
      "  skill_id professional_id          skill_name  years_experience\n",
      "0     S001            P001              Python                 8\n",
      "1     S002            P001                 SQL                10\n",
      "2     S003            P001    Machine Learning                 6\n",
      "3     S004            P001  Data Visualization                 7\n",
      "4     S088            P001          TensorFlow                 5\n",
      "\n",
      "--- First 5 rows of FactJobs ---\n",
      "  job_id professional_id      company    industry                 role  \\\n",
      "0   J001            P001     TechCorp  Technology       Junior Analyst   \n",
      "1   J002            P001    DataWorks  Technology         Data Analyst   \n",
      "2   J003            P001     Analytix  Technology  Senior Data Analyst   \n",
      "3   J004            P001   AIVentures  Technology       Data Scientist   \n",
      "4   J005            P002  MarketBoost   Marketing  Marketing Assistant   \n",
      "\n",
      "  start_date   end_date  salary_band  job_duration  \n",
      "0 2011-06-15 2013-08-30            2           807  \n",
      "1 2013-09-15 2016-05-20            3           978  \n",
      "2 2016-06-01 2019-04-15            4          1048  \n",
      "3 2019-05-01 2023-02-28            5          1399  \n",
      "4 2015-03-10 2017-07-20            2           863  \n"
     ]
    }
   ],
   "source": [
    "import duckdb\n",
    "import pandas as pd\n",
    "\n",
    "\n",
    "try:\n",
    "    print(f\"Connecting to DuckDB at: {db_path}\")\n",
    "    con = duckdb.connect(database=db_path, read_only=True)\n",
    "\n",
    "    # Get the list of tables\n",
    "    tables_query = \"SHOW TABLES;\"\n",
    "    tables_result = con.execute(tables_query).fetchdf()\n",
    "    table_names = tables_result['name'].tolist()  # Extract table names\n",
    "\n",
    "    # Iterate through tables and show first 5 rows\n",
    "    for table_name in table_names:\n",
    "        print(f\"\\n--- First 5 rows of {table_name} ---\")\n",
    "        query = f\"SELECT * FROM {table_name} LIMIT 5;\"\n",
    "        result = con.execute(query).fetchdf()\n",
    "        print(result)\n",
    "\n",
    "except duckdb.Error as e:\n",
    "    print(f\"DuckDB Error: {e}\")\n",
    "except Exception as e:\n",
    "    print(f\"An unexpected error occurred: {e}\")\n",
    "finally:\n",
    "    if 'con' in locals():\n",
    "        con.close()"
   ]
  },
  {
   "cell_type": "code",
   "execution_count": null,
   "metadata": {},
   "outputs": [],
   "source": []
  }
 ],
 "metadata": {
  "kernelspec": {
   "display_name": "venv",
   "language": "python",
   "name": "python3"
  },
  "language_info": {
   "codemirror_mode": {
    "name": "ipython",
    "version": 3
   },
   "file_extension": ".py",
   "mimetype": "text/x-python",
   "name": "python",
   "nbconvert_exporter": "python",
   "pygments_lexer": "ipython3",
   "version": "3.11.9"
  }
 },
 "nbformat": 4,
 "nbformat_minor": 2
}
